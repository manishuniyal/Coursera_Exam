{
 "cells": [
  {
   "cell_type": "markdown",
   "id": "7a3496d3-1b5c-403c-968a-1a8dd4e8f3ea",
   "metadata": {},
   "source": [
    "<h1>Data Science Tools and Ecosystem</h1>"
   ]
  },
  {
   "cell_type": "markdown",
   "id": "4a444ddd-abf2-4105-84f4-a844e17aa3a8",
   "metadata": {},
   "source": [
    "In this notebook, Data Science Tools and Ecosystem are summarized."
   ]
  },
  {
   "cell_type": "markdown",
   "id": "88816b1e-88e1-48c0-855c-e8871cb7c7f2",
   "metadata": {},
   "source": [
    "Some of the popular languages that Data Scientists use are:\n",
    "1. Python\n",
    "2. R\n",
    "3. Scala\n",
    "4. Julia"
   ]
  },
  {
   "cell_type": "markdown",
   "id": "3a3fa849-2512-4e01-baff-a3897ca378cc",
   "metadata": {},
   "source": [
    "Some of the commonly used libraries used by Data Scientists include:\n",
    "1. Numpy\n",
    "2. Scipy\n",
    "3. Pandas\n",
    "4. Matplotlib"
   ]
  },
  {
   "cell_type": "markdown",
   "id": "e6eb1ca5-4acd-448a-ad7d-e381b47868dd",
   "metadata": {},
   "source": [
    "|Data Science Tools|\n",
    "|------------------|\n",
    "|Tableau | Tableau|\n",
    "|TensorFlow | Tableau|\n",
    "|Jupyter | Tableau|"
   ]
  },
  {
   "cell_type": "markdown",
   "id": "3b94cec6-09ac-4fea-aa76-826e3ebcef28",
   "metadata": {},
   "source": [
    "<h3>Below are a few examples of evaluating arithmetic expressions in Python.</h3>"
   ]
  },
  {
   "cell_type": "code",
   "execution_count": 3,
   "id": "37c08219-d036-4dba-a3e0-f389473a6402",
   "metadata": {
    "tags": []
   },
   "outputs": [
    {
     "data": {
      "text/plain": [
       "17"
      ]
     },
     "execution_count": 3,
     "metadata": {},
     "output_type": "execute_result"
    }
   ],
   "source": [
    "# This a simple arithmetic expression to mutiply then add integers\n",
    "(3*4)+5"
   ]
  },
  {
   "cell_type": "code",
   "execution_count": 7,
   "id": "7642ba42-9e1e-41c7-99c5-100e4fc7486e",
   "metadata": {
    "tags": []
   },
   "outputs": [
    {
     "name": "stdout",
     "output_type": "stream",
     "text": [
      "3.3333333333333335\n"
     ]
    }
   ],
   "source": [
    "# This will convert 200 minutes to hours by diving by 60\n",
    "minutes,minute_60 = 200,60\n",
    "hours = minutes/minute_60\n",
    "print(hours)"
   ]
  },
  {
   "cell_type": "markdown",
   "id": "a60323e3-fcba-4b78-8bb6-b8e1520b2b55",
   "metadata": {},
   "source": [
    "**Objectives:**\n",
    "* This Lab provides hands-on experience to understand how to write code in Jupyter.\n",
    "* As we learned through this course, Python, R, Scala, Julia, are the most popular languages for Data Scientist.\n",
    "* As we learned here, GitHub is a code version control system where individuals programmer can deploy their code with any conflict.\n",
    "* We saw that the R language external library support for visualizing the plots and inbuilt library are also available for data visualization.\n",
    "* The R language editor comes with attractive features such as visualization of data set once loaded, interactive editor with terminal options, etc.\n"
   ]
  },
  {
   "cell_type": "markdown",
   "id": "c9284178-00f7-4a35-b7fd-b6a47b8928ea",
   "metadata": {},
   "source": [
    "<h2>Author</h2>\n",
    "Manish Uniyal"
   ]
  },
  {
   "cell_type": "code",
   "execution_count": null,
   "id": "a49f2b2e-ce72-4783-a615-e92f24d8c7c8",
   "metadata": {},
   "outputs": [],
   "source": []
  }
 ],
 "metadata": {
  "kernelspec": {
   "display_name": "Python",
   "language": "python",
   "name": "conda-env-python-py"
  },
  "language_info": {
   "codemirror_mode": {
    "name": "ipython",
    "version": 3
   },
   "file_extension": ".py",
   "mimetype": "text/x-python",
   "name": "python",
   "nbconvert_exporter": "python",
   "pygments_lexer": "ipython3",
   "version": "3.7.12"
  }
 },
 "nbformat": 4,
 "nbformat_minor": 5
}
